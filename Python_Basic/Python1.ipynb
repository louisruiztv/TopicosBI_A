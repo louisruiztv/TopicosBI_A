{
 "cells": [
  {
   "cell_type": "markdown",
   "id": "0036d73c",
   "metadata": {},
   "source": [
    "# Python for Big Data\n",
    "\n",
    "\n",
    "1. Variables\n",
    "2. String\n",
    "3. Function print\n",
    "4. Booleanos y condicionales\n",
    "5. Loops\n",
    "6. Functions\n",
    "7. Manejo de Excepciones"
   ]
  },
  {
   "cell_type": "markdown",
   "id": "a4b6cef6",
   "metadata": {},
   "source": [
    "# 1. Variables"
   ]
  },
  {
   "cell_type": "code",
   "execution_count": null,
   "id": "5b786404",
   "metadata": {},
   "outputs": [
    {
     "ename": "NameError",
     "evalue": "name 'resultado' is not defined",
     "output_type": "error",
     "traceback": [
      "\u001b[31m---------------------------------------------------------------------------\u001b[39m",
      "\u001b[31mNameError\u001b[39m                                 Traceback (most recent call last)",
      "\u001b[36mCell\u001b[39m\u001b[36m \u001b[39m\u001b[32mIn[2]\u001b[39m\u001b[32m, line 2\u001b[39m\n\u001b[32m      1\u001b[39m \u001b[38;5;66;03m# Variables no definida\u001b[39;00m\n\u001b[32m----> \u001b[39m\u001b[32m2\u001b[39m \u001b[43mresultado\u001b[49m\n\u001b[32m      4\u001b[39m monto_deuda = \u001b[32m1000\u001b[39m\n\u001b[32m      5\u001b[39m moneda = \u001b[33m\"\u001b[39m\u001b[33mSOles\u001b[39m\u001b[33m\"\u001b[39m\n",
      "\u001b[31mNameError\u001b[39m: name 'resultado' is not defined"
     ]
    }
   ],
   "source": [
    "# Variables no definida\n",
    "resultado"
   ]
  },
  {
   "cell_type": "code",
   "execution_count": 14,
   "id": "27344a48",
   "metadata": {},
   "outputs": [],
   "source": [
    "#Variables definidas\n",
    "monto_deuda = 1000\n",
    "moneda = \"USD\""
   ]
  },
  {
   "cell_type": "code",
   "execution_count": 10,
   "id": "2c02a0e4",
   "metadata": {},
   "outputs": [
    {
     "name": "stdout",
     "output_type": "stream",
     "text": [
      "1000\n"
     ]
    }
   ],
   "source": [
    "#mostar variable\n",
    "print(monto_deuda)"
   ]
  },
  {
   "cell_type": "code",
   "execution_count": 12,
   "id": "dc2955c9",
   "metadata": {},
   "outputs": [
    {
     "data": {
      "text/plain": [
       "1000"
      ]
     },
     "execution_count": 12,
     "metadata": {},
     "output_type": "execute_result"
    }
   ],
   "source": [
    "monto_deuda"
   ]
  },
  {
   "cell_type": "code",
   "execution_count": 15,
   "id": "008b3380",
   "metadata": {},
   "outputs": [
    {
     "data": {
      "text/plain": [
       "'USD'"
      ]
     },
     "execution_count": 15,
     "metadata": {},
     "output_type": "execute_result"
    }
   ],
   "source": [
    "moneda"
   ]
  },
  {
   "cell_type": "code",
   "execution_count": null,
   "id": "527f760a",
   "metadata": {},
   "outputs": [],
   "source": [
    "# Operando con variables\n",
    "total_deuda = monto_deuda * 1.18"
   ]
  },
  {
   "cell_type": "code",
   "execution_count": 20,
   "id": "2b646403",
   "metadata": {},
   "outputs": [],
   "source": [
    "#Interacción con el usuario\n",
    "monto_interes = int(input(\"Ingrese el interes\"))"
   ]
  },
  {
   "cell_type": "code",
   "execution_count": 21,
   "id": "55642513",
   "metadata": {},
   "outputs": [
    {
     "data": {
      "text/plain": [
       "1000"
      ]
     },
     "execution_count": 21,
     "metadata": {},
     "output_type": "execute_result"
    }
   ],
   "source": [
    "#Operando con variables\n",
    "resultado = monto_deuda\n",
    "resultado"
   ]
  },
  {
   "cell_type": "code",
   "execution_count": 22,
   "id": "b829539f",
   "metadata": {},
   "outputs": [
    {
     "data": {
      "text/plain": [
       "int"
      ]
     },
     "execution_count": 22,
     "metadata": {},
     "output_type": "execute_result"
    }
   ],
   "source": [
    "#Tipo de variables\n",
    "type(monto_deuda)"
   ]
  },
  {
   "cell_type": "code",
   "execution_count": 23,
   "id": "695e9c2e",
   "metadata": {},
   "outputs": [
    {
     "data": {
      "text/plain": [
       "str"
      ]
     },
     "execution_count": 23,
     "metadata": {},
     "output_type": "execute_result"
    }
   ],
   "source": [
    "type(moneda)"
   ]
  },
  {
   "cell_type": "code",
   "execution_count": 24,
   "id": "80cd900b",
   "metadata": {},
   "outputs": [
    {
     "data": {
      "text/plain": [
       "4000"
      ]
     },
     "execution_count": 24,
     "metadata": {},
     "output_type": "execute_result"
    }
   ],
   "source": [
    "#Operacion con variables\n",
    "4*resultado"
   ]
  },
  {
   "cell_type": "code",
   "execution_count": 25,
   "id": "42525b72",
   "metadata": {},
   "outputs": [
    {
     "data": {
      "text/plain": [
       "'1000'"
      ]
     },
     "execution_count": 25,
     "metadata": {},
     "output_type": "execute_result"
    }
   ],
   "source": [
    "#Cambiando tipo de variables\n",
    "str_monto_deuda = str(monto_deuda)\n",
    "str_monto_deuda"
   ]
  },
  {
   "cell_type": "code",
   "execution_count": 26,
   "id": "860d0939",
   "metadata": {},
   "outputs": [
    {
     "data": {
      "text/plain": [
       "1000"
      ]
     },
     "execution_count": 26,
     "metadata": {},
     "output_type": "execute_result"
    }
   ],
   "source": [
    "int_monto_deuda = int(str_monto_deuda)\n",
    "int_monto_deuda"
   ]
  },
  {
   "cell_type": "code",
   "execution_count": 28,
   "id": "cd3fb5a2",
   "metadata": {},
   "outputs": [
    {
     "data": {
      "text/plain": [
       "'Hola'"
      ]
     },
     "execution_count": 28,
     "metadata": {},
     "output_type": "execute_result"
    }
   ],
   "source": [
    "#Concatenar\n",
    "'Ho' + 'la'"
   ]
  },
  {
   "cell_type": "code",
   "execution_count": 29,
   "id": "2d61212c",
   "metadata": {},
   "outputs": [],
   "source": [
    "#comillas simples o dobles\n",
    "text_1 = \"Mi primer mensaje\"\n",
    "text_2 = 'Mi segundo mensaje'"
   ]
  },
  {
   "cell_type": "code",
   "execution_count": 30,
   "id": "ae5e3793",
   "metadata": {},
   "outputs": [
    {
     "data": {
      "text/plain": [
       "'Mi primer mensaje'"
      ]
     },
     "execution_count": 30,
     "metadata": {},
     "output_type": "execute_result"
    }
   ],
   "source": [
    "text_1"
   ]
  },
  {
   "cell_type": "code",
   "execution_count": 31,
   "id": "d844786e",
   "metadata": {},
   "outputs": [
    {
     "data": {
      "text/plain": [
       "'Mi segundo mensaje'"
      ]
     },
     "execution_count": 31,
     "metadata": {},
     "output_type": "execute_result"
    }
   ],
   "source": [
    "text_2"
   ]
  },
  {
   "cell_type": "code",
   "execution_count": 32,
   "id": "2c6ef8be",
   "metadata": {},
   "outputs": [],
   "source": [
    "# Comillas trigles\n",
    "consulta = \"\"\"\" SELECT * FROM USERS \n",
    "WHERE AGE > 30\n",
    "ORDER BY DESC\n",
    "\"\"\"\n"
   ]
  },
  {
   "cell_type": "code",
   "execution_count": 33,
   "id": "43dc8e49",
   "metadata": {},
   "outputs": [
    {
     "data": {
      "text/plain": [
       "'\" SELECT * FROM USERS \\nWHERE AGE > 30\\nORDER BY DESC\\n'"
      ]
     },
     "execution_count": 33,
     "metadata": {},
     "output_type": "execute_result"
    }
   ],
   "source": [
    "consulta"
   ]
  },
  {
   "cell_type": "code",
   "execution_count": 34,
   "id": "d20d8f04",
   "metadata": {},
   "outputs": [],
   "source": [
    "#Operaciones con strings\n",
    "cadena_1 = 'hola mundo'\n",
    "cadena_2 = '5'\n",
    "cadena_3 = 'cinco'"
   ]
  },
  {
   "cell_type": "code",
   "execution_count": 35,
   "id": "4dc97540",
   "metadata": {},
   "outputs": [
    {
     "data": {
      "text/plain": [
       "'Hola mundo'"
      ]
     },
     "execution_count": 35,
     "metadata": {},
     "output_type": "execute_result"
    }
   ],
   "source": [
    "cadena_1.capitalize()"
   ]
  },
  {
   "cell_type": "code",
   "execution_count": 36,
   "id": "9d50ea2b",
   "metadata": {},
   "outputs": [
    {
     "data": {
      "text/plain": [
       "'CINCO'"
      ]
     },
     "execution_count": 36,
     "metadata": {},
     "output_type": "execute_result"
    }
   ],
   "source": [
    "cadena_3.upper()"
   ]
  },
  {
   "cell_type": "code",
   "execution_count": 37,
   "id": "56a55f27",
   "metadata": {},
   "outputs": [
    {
     "data": {
      "text/plain": [
       "'cinco'"
      ]
     },
     "execution_count": 37,
     "metadata": {},
     "output_type": "execute_result"
    }
   ],
   "source": [
    "cadena_3.lower()"
   ]
  },
  {
   "cell_type": "code",
   "execution_count": 38,
   "id": "46348ee1",
   "metadata": {},
   "outputs": [
    {
     "data": {
      "text/plain": [
       "'Hola Mundo'"
      ]
     },
     "execution_count": 38,
     "metadata": {},
     "output_type": "execute_result"
    }
   ],
   "source": [
    "cadena_1.title()"
   ]
  },
  {
   "cell_type": "code",
   "execution_count": 39,
   "id": "de1cdd4a",
   "metadata": {},
   "outputs": [
    {
     "data": {
      "text/plain": [
       "['hola', 'mundo']"
      ]
     },
     "execution_count": 39,
     "metadata": {},
     "output_type": "execute_result"
    }
   ],
   "source": [
    "cadena_1.split()"
   ]
  },
  {
   "cell_type": "code",
   "execution_count": null,
   "id": "0b3bdab9",
   "metadata": {},
   "outputs": [
    {
     "data": {
      "text/plain": [
       "2"
      ]
     },
     "execution_count": 40,
     "metadata": {},
     "output_type": "execute_result"
    }
   ],
   "source": [
    "cadena_1.count('o') # para contar las o"
   ]
  },
  {
   "cell_type": "code",
   "execution_count": 43,
   "id": "770c5e2d",
   "metadata": {},
   "outputs": [
    {
     "data": {
      "text/plain": [
       "10"
      ]
     },
     "execution_count": 43,
     "metadata": {},
     "output_type": "execute_result"
    }
   ],
   "source": [
    "# longitud de una cadena\n",
    "len(cadena_1)"
   ]
  },
  {
   "cell_type": "code",
   "execution_count": 45,
   "id": "e8964786",
   "metadata": {},
   "outputs": [
    {
     "data": {
      "text/plain": [
       "['hola ', 'undo']"
      ]
     },
     "execution_count": 45,
     "metadata": {},
     "output_type": "execute_result"
    }
   ],
   "source": [
    "# quitar letra string\n",
    "cadena_1.split('m')"
   ]
  },
  {
   "cell_type": "code",
   "execution_count": 19,
   "id": "726cf844",
   "metadata": {},
   "outputs": [
    {
     "data": {
      "text/plain": [
       "'(Hola Mundo)'"
      ]
     },
     "execution_count": 19,
     "metadata": {},
     "output_type": "execute_result"
    }
   ],
   "source": [
    "# limpiando extremo string\n",
    "cadena_4 = '(Hola Mundo)'\n",
    "cadena_4.strip()"
   ]
  },
  {
   "cell_type": "code",
   "execution_count": 49,
   "id": "2b6d5f41",
   "metadata": {},
   "outputs": [
    {
     "data": {
      "text/plain": [
       "'Hola Mundo'"
      ]
     },
     "execution_count": 49,
     "metadata": {},
     "output_type": "execute_result"
    }
   ],
   "source": [
    "cadena_4.strip( '(), ')"
   ]
  },
  {
   "cell_type": "code",
   "execution_count": 16,
   "id": "b60a655f",
   "metadata": {},
   "outputs": [],
   "source": [
    "#reemplazar string\n",
    "cadena_5 = 'Hola mundo'\n",
    "cadena_5 = cadena_5.replace('mundo', 'amigos')"
   ]
  },
  {
   "cell_type": "code",
   "execution_count": 4,
   "id": "4460917a",
   "metadata": {},
   "outputs": [
    {
     "data": {
      "text/plain": [
       "'Hola amigos'"
      ]
     },
     "execution_count": 4,
     "metadata": {},
     "output_type": "execute_result"
    }
   ],
   "source": [
    "cadena_5"
   ]
  },
  {
   "cell_type": "code",
   "execution_count": 6,
   "id": "e2352529",
   "metadata": {},
   "outputs": [
    {
     "data": {
      "text/plain": [
       "1"
      ]
     },
     "execution_count": 6,
     "metadata": {},
     "output_type": "execute_result"
    }
   ],
   "source": [
    "cadena_5.index('o')"
   ]
  },
  {
   "cell_type": "code",
   "execution_count": 7,
   "id": "870699e1",
   "metadata": {},
   "outputs": [
    {
     "data": {
      "text/plain": [
       "9"
      ]
     },
     "execution_count": 7,
     "metadata": {},
     "output_type": "execute_result"
    }
   ],
   "source": [
    "cadena_5.index('o', 6)"
   ]
  },
  {
   "cell_type": "code",
   "execution_count": 9,
   "id": "be1e25e1",
   "metadata": {},
   "outputs": [
    {
     "data": {
      "text/plain": [
       "'a'"
      ]
     },
     "execution_count": 9,
     "metadata": {},
     "output_type": "execute_result"
    }
   ],
   "source": [
    "cadena_5[3]"
   ]
  },
  {
   "cell_type": "code",
   "execution_count": 14,
   "id": "f1db120a",
   "metadata": {},
   "outputs": [
    {
     "data": {
      "text/plain": [
       "'o'"
      ]
     },
     "execution_count": 14,
     "metadata": {},
     "output_type": "execute_result"
    }
   ],
   "source": [
    "# Leer a la inversa\n",
    "cadena_5[-2]"
   ]
  },
  {
   "cell_type": "code",
   "execution_count": 18,
   "id": "ee6d298a",
   "metadata": {},
   "outputs": [
    {
     "data": {
      "text/plain": [
       "'la amig'"
      ]
     },
     "execution_count": 18,
     "metadata": {},
     "output_type": "execute_result"
    }
   ],
   "source": [
    "#Leer a la inversa\n",
    "cadena_5[2:-2]"
   ]
  },
  {
   "cell_type": "code",
   "execution_count": 10,
   "id": "86e58e33",
   "metadata": {},
   "outputs": [
    {
     "data": {
      "text/plain": [
       "'sogima aloH'"
      ]
     },
     "execution_count": 10,
     "metadata": {},
     "output_type": "execute_result"
    }
   ],
   "source": [
    "# Leer a la inversa\n",
    "cadena_5[::-1]"
   ]
  },
  {
   "cell_type": "code",
   "execution_count": 20,
   "id": "69333324",
   "metadata": {},
   "outputs": [
    {
     "data": {
      "text/plain": [
       "['HOLA', 'MUNDO']"
      ]
     },
     "execution_count": 20,
     "metadata": {},
     "output_type": "execute_result"
    }
   ],
   "source": [
    "# Llanada a una cadena\n",
    "cadena_4.strip('(), ').upper().split() #llama a la cadena quita lo mencionado, a mayuscula y separado"
   ]
  },
  {
   "cell_type": "code",
   "execution_count": 21,
   "id": "5a3fb4f5",
   "metadata": {},
   "outputs": [
    {
     "data": {
      "text/plain": [
       "'Hola Louis este es el curso de Topicos Especiales en Inteligencia de Negocios'"
      ]
     },
     "execution_count": 21,
     "metadata": {},
     "output_type": "execute_result"
    }
   ],
   "source": [
    "# Python f-string\n",
    "nombre = 'Louis'\n",
    "curso = 'Topicos Especiales en Inteligencia de Negocios'\n",
    "f'Hola {nombre} este es el curso de {curso}'"
   ]
  },
  {
   "cell_type": "code",
   "execution_count": 22,
   "id": "dbcc82de",
   "metadata": {},
   "outputs": [],
   "source": [
    "string_1= \"Hola mundo\"\n",
    "string_2 = '5'\n",
    "string_3= 'cinco'"
   ]
  },
  {
   "cell_type": "code",
   "execution_count": 23,
   "id": "2c6ab467",
   "metadata": {},
   "outputs": [
    {
     "data": {
      "text/plain": [
       "False"
      ]
     },
     "execution_count": 23,
     "metadata": {},
     "output_type": "execute_result"
    }
   ],
   "source": [
    "string_1.isdigit()"
   ]
  },
  {
   "cell_type": "code",
   "execution_count": 24,
   "id": "236fbc71",
   "metadata": {},
   "outputs": [
    {
     "data": {
      "text/plain": [
       "True"
      ]
     },
     "execution_count": 24,
     "metadata": {},
     "output_type": "execute_result"
    }
   ],
   "source": [
    "string_2.isdigit()"
   ]
  },
  {
   "cell_type": "code",
   "execution_count": 25,
   "id": "09ba389a",
   "metadata": {},
   "outputs": [
    {
     "data": {
      "text/plain": [
       "True"
      ]
     },
     "execution_count": 25,
     "metadata": {},
     "output_type": "execute_result"
    }
   ],
   "source": [
    "string_3.isalpha()"
   ]
  },
  {
   "cell_type": "code",
   "execution_count": 26,
   "id": "17ac772c",
   "metadata": {},
   "outputs": [
    {
     "data": {
      "text/plain": [
       "'abcdefghijklmnopqrstuvwxyzABCDEFGHIJKLMNOPQRSTUVWXYZ'"
      ]
     },
     "execution_count": 26,
     "metadata": {},
     "output_type": "execute_result"
    }
   ],
   "source": [
    "#Cosas mas avanzadas\n",
    "import string\n",
    "string.ascii_letters"
   ]
  },
  {
   "cell_type": "code",
   "execution_count": 27,
   "id": "ac55585f",
   "metadata": {},
   "outputs": [
    {
     "data": {
      "text/plain": [
       "'ABCDEFGHIJKLMNOPQRSTUVWXYZ'"
      ]
     },
     "execution_count": 27,
     "metadata": {},
     "output_type": "execute_result"
    }
   ],
   "source": [
    "#Solo en mayusculas\n",
    "string.ascii_uppercase"
   ]
  },
  {
   "cell_type": "markdown",
   "id": "636de4d5",
   "metadata": {},
   "source": [
    "# Print"
   ]
  },
  {
   "cell_type": "code",
   "execution_count": 28,
   "id": "3dd8ffe5",
   "metadata": {},
   "outputs": [
    {
     "data": {
      "text/plain": [
       "'abcdefghijklmnopqrstuvwxyz'"
      ]
     },
     "execution_count": 28,
     "metadata": {},
     "output_type": "execute_result"
    }
   ],
   "source": [
    "#Solo minusculas\n",
    "string.ascii_lowercase"
   ]
  },
  {
   "cell_type": "code",
   "execution_count": 29,
   "id": "e02295dc",
   "metadata": {},
   "outputs": [
    {
     "name": "stdout",
     "output_type": "stream",
     "text": [
      "<class 'int'>\n"
     ]
    }
   ],
   "source": [
    "print(type(5))"
   ]
  },
  {
   "cell_type": "code",
   "execution_count": 30,
   "id": "4ad80b94",
   "metadata": {},
   "outputs": [
    {
     "name": "stdout",
     "output_type": "stream",
     "text": [
      "Mi nombres es:  Louis\n",
      "Mi nombre es: Louis\n"
     ]
    }
   ],
   "source": [
    "print('Mi nombres es: ', nombre)\n",
    "print(f'Mi nombre es: {nombre}')"
   ]
  },
  {
   "cell_type": "code",
   "execution_count": null,
   "id": "0ced6b8f",
   "metadata": {},
   "outputs": [
    {
     "name": "stdout",
     "output_type": "stream",
     "text": [
      "Los datos del curso son \n",
      "Curso \t\t: Topicos Especiales en Inteligencia de Negocios \n",
      " Ciclo \t\t: Sexto \n",
      " Modalidad: \t Presencial\n"
     ]
    }
   ],
   "source": [
    "print(\"Los datos del curso son \\nCurso \\t\\t: Topicos Especiales en Inteligencia de Negocios \\n Ciclo \\t\\t: Sexto \\n Modalidad: \\t Presencial\")"
   ]
  },
  {
   "cell_type": "markdown",
   "id": "242b3681",
   "metadata": {},
   "source": [
    "# 4. Booleanos y condicionales"
   ]
  },
  {
   "cell_type": "code",
   "execution_count": 41,
   "id": "82d7e4fc",
   "metadata": {},
   "outputs": [
    {
     "name": "stdout",
     "output_type": "stream",
     "text": [
      "<class 'bool'>\n"
     ]
    }
   ],
   "source": [
    "final_page = True\n",
    "print(type(final_page))"
   ]
  },
  {
   "cell_type": "code",
   "execution_count": 42,
   "id": "c4442519",
   "metadata": {},
   "outputs": [
    {
     "name": "stdout",
     "output_type": "stream",
     "text": [
      "Es la ultima pagina\n"
     ]
    }
   ],
   "source": [
    "if final_page:\n",
    "    print(\"Es la ultima pagina\")\n",
    "else:\n",
    "    print(\"Aun no es la ultima pagina\")"
   ]
  },
  {
   "cell_type": "code",
   "execution_count": 43,
   "id": "a4e16fe5",
   "metadata": {},
   "outputs": [
    {
     "data": {
      "text/plain": [
       "False"
      ]
     },
     "execution_count": 43,
     "metadata": {},
     "output_type": "execute_result"
    }
   ],
   "source": [
    "# operaciones loficas\n",
    "not True"
   ]
  },
  {
   "cell_type": "code",
   "execution_count": 44,
   "id": "60180453",
   "metadata": {},
   "outputs": [
    {
     "data": {
      "text/plain": [
       "False"
      ]
     },
     "execution_count": 44,
     "metadata": {},
     "output_type": "execute_result"
    }
   ],
   "source": [
    "True and False"
   ]
  },
  {
   "cell_type": "code",
   "execution_count": 45,
   "id": "df6237ab",
   "metadata": {},
   "outputs": [
    {
     "data": {
      "text/plain": [
       "True"
      ]
     },
     "execution_count": 45,
     "metadata": {},
     "output_type": "execute_result"
    }
   ],
   "source": [
    "True or False"
   ]
  },
  {
   "cell_type": "code",
   "execution_count": 46,
   "id": "fa0b7b4a",
   "metadata": {},
   "outputs": [
    {
     "data": {
      "text/plain": [
       "False"
      ]
     },
     "execution_count": 46,
     "metadata": {},
     "output_type": "execute_result"
    }
   ],
   "source": [
    "False or False"
   ]
  },
  {
   "cell_type": "code",
   "execution_count": 47,
   "id": "e88c0f61",
   "metadata": {},
   "outputs": [
    {
     "data": {
      "text/plain": [
       "False"
      ]
     },
     "execution_count": 47,
     "metadata": {},
     "output_type": "execute_result"
    }
   ],
   "source": [
    "False and False"
   ]
  },
  {
   "cell_type": "code",
   "execution_count": 48,
   "id": "475d862c",
   "metadata": {},
   "outputs": [
    {
     "ename": "TypeError",
     "evalue": "'<' not supported between instances of 'int' and 'str'",
     "output_type": "error",
     "traceback": [
      "\u001b[31m---------------------------------------------------------------------------\u001b[39m",
      "\u001b[31mTypeError\u001b[39m                                 Traceback (most recent call last)",
      "\u001b[36mCell\u001b[39m\u001b[36m \u001b[39m\u001b[32mIn[48]\u001b[39m\u001b[32m, line 2\u001b[39m\n\u001b[32m      1\u001b[39m \u001b[38;5;66;03m#Comparacion\u001b[39;00m\n\u001b[32m----> \u001b[39m\u001b[32m2\u001b[39m \u001b[32;43m1\u001b[39;49m\u001b[43m \u001b[49m\u001b[43m<\u001b[49m\u001b[43m \u001b[49m\u001b[33;43m'\u001b[39;49m\u001b[33;43muno\u001b[39;49m\u001b[33;43m'\u001b[39;49m\n",
      "\u001b[31mTypeError\u001b[39m: '<' not supported between instances of 'int' and 'str'"
     ]
    }
   ],
   "source": [
    "#Comparacion\n",
    "1 < 'uno'"
   ]
  },
  {
   "cell_type": "markdown",
   "id": "48203e78",
   "metadata": {},
   "source": [
    "# 5. Loops"
   ]
  },
  {
   "cell_type": "code",
   "execution_count": 49,
   "id": "53d17b27",
   "metadata": {},
   "outputs": [
    {
     "name": "stdout",
     "output_type": "stream",
     "text": [
      "H\n",
      "o\n",
      "l\n",
      "a\n",
      " \n",
      "m\n",
      "u\n",
      "n\n",
      "d\n",
      "o\n"
     ]
    }
   ],
   "source": [
    "for letra in 'Hola mundo':\n",
    "    print(letra)"
   ]
  },
  {
   "cell_type": "code",
   "execution_count": 50,
   "id": "4e986e6e",
   "metadata": {},
   "outputs": [
    {
     "name": "stdout",
     "output_type": "stream",
     "text": [
      "palabra: ['Hola', 'a', 'todos']\n"
     ]
    }
   ],
   "source": [
    "my_string = \"Hola a todos\"\n",
    "palabras = my_string.split()\n",
    "print(f'palabra: {palabras}')"
   ]
  },
  {
   "cell_type": "code",
   "execution_count": 51,
   "id": "af3486ad",
   "metadata": {},
   "outputs": [
    {
     "name": "stdout",
     "output_type": "stream",
     "text": [
      "Hola\n",
      "a\n",
      "todos\n"
     ]
    }
   ],
   "source": [
    "for palabra in palabras:\n",
    "    print(palabra)"
   ]
  },
  {
   "cell_type": "code",
   "execution_count": 53,
   "id": "7a8b326a",
   "metadata": {},
   "outputs": [
    {
     "name": "stdout",
     "output_type": "stream",
     "text": [
      "0 Hola\n",
      "1 a\n",
      "2 todos\n"
     ]
    }
   ],
   "source": [
    "for idx, palabra in enumerate(palabras):\n",
    "    print(idx,palabra)"
   ]
  },
  {
   "cell_type": "code",
   "execution_count": null,
   "id": "2c3db37a",
   "metadata": {},
   "outputs": [
    {
     "name": "stdout",
     "output_type": "stream",
     "text": [
      "Palabra 1: Hola\n",
      "Palabra 2: a\n",
      "Palabra 3: todos\n"
     ]
    }
   ],
   "source": [
    "for idx, palabra in enumerate(palabras, 1): # empieza el conteo desde 1\n",
    "    print(f'Palabra {idx}: {palabra}')"
   ]
  },
  {
   "cell_type": "code",
   "execution_count": 57,
   "id": "2646a684",
   "metadata": {},
   "outputs": [
    {
     "name": "stdout",
     "output_type": "stream",
     "text": [
      "El numeor de intento 1: Ingrese su contraseña\n",
      "El numeor de intento 2: Ingrese su contraseña\n",
      "El numeor de intento 3: Ingrese su contraseña\n",
      "El numeor de intento 4: Ingrese su contraseña\n",
      "El numeor de intento 5: Ingrese su contraseña\n",
      "El numeor de intento 6: Ingrese su contraseña\n",
      "El numeor de intento 7: Ingrese su contraseña\n",
      "El numeor de intento 8: Ingrese su contraseña\n",
      "El numeor de intento 9: Ingrese su contraseña\n",
      "El numeor de intento 10: Ingrese su contraseña\n"
     ]
    }
   ],
   "source": [
    "# Trabajando con while loops\n",
    "max_intentos = 10\n",
    "intento = 1\n",
    "while intento <= max_intentos:\n",
    "    print(f'El numeor de intento {intento}: Ingrese su contraseña')\n",
    "    intento += 1"
   ]
  },
  {
   "cell_type": "markdown",
   "id": "68d55074",
   "metadata": {},
   "source": [
    "# 6. Funciones"
   ]
  },
  {
   "cell_type": "code",
   "execution_count": 59,
   "id": "9de8b74c",
   "metadata": {},
   "outputs": [
    {
     "name": "stdout",
     "output_type": "stream",
     "text": [
      "ya me voy\n"
     ]
    }
   ],
   "source": [
    "print(\"ya me voy\")"
   ]
  },
  {
   "cell_type": "code",
   "execution_count": 60,
   "id": "db1918c1",
   "metadata": {},
   "outputs": [
    {
     "data": {
      "text/plain": [
       "17"
      ]
     },
     "execution_count": 60,
     "metadata": {},
     "output_type": "execute_result"
    }
   ],
   "source": [
    "len('Aprobare el curso')"
   ]
  },
  {
   "cell_type": "code",
   "execution_count": 63,
   "id": "fb7ca1a4",
   "metadata": {},
   "outputs": [],
   "source": [
    "#Creando funciones\n",
    "def saludar():\n",
    "    print(f'hola, como estas?')"
   ]
  },
  {
   "cell_type": "code",
   "execution_count": 65,
   "id": "9344aaa1",
   "metadata": {},
   "outputs": [
    {
     "name": "stdout",
     "output_type": "stream",
     "text": [
      "hola, como estas?\n"
     ]
    }
   ],
   "source": [
    "saludar()"
   ]
  },
  {
   "cell_type": "code",
   "execution_count": 66,
   "id": "4d75df35",
   "metadata": {},
   "outputs": [],
   "source": [
    "def saludar(nombre):\n",
    "    print(f'Hola, {nombre}, como estas?')"
   ]
  },
  {
   "cell_type": "code",
   "execution_count": 67,
   "id": "34326f91",
   "metadata": {},
   "outputs": [
    {
     "name": "stdout",
     "output_type": "stream",
     "text": [
      "Hola, Louis, como estas?\n"
     ]
    }
   ],
   "source": [
    "# Llamando a la función saludar\n",
    "saludar('Louis')"
   ]
  },
  {
   "cell_type": "code",
   "execution_count": 69,
   "id": "aec12204",
   "metadata": {},
   "outputs": [],
   "source": [
    "def bienvenida(nombre, lugar):\n",
    "    print(f'Hola, {nombre}, bienvenido a {lugar}')"
   ]
  },
  {
   "cell_type": "code",
   "execution_count": 70,
   "id": "028eb9e2",
   "metadata": {},
   "outputs": [
    {
     "name": "stdout",
     "output_type": "stream",
     "text": [
      "Hola, Ana, bienvenido a Paris\n"
     ]
    }
   ],
   "source": [
    "bienvenida('Ana', 'Paris')"
   ]
  },
  {
   "cell_type": "code",
   "execution_count": 71,
   "id": "241241a0",
   "metadata": {},
   "outputs": [],
   "source": [
    "# Funcion que retorna un valor\n",
    "def sumar(a,b):\n",
    "    return a + b"
   ]
  },
  {
   "cell_type": "code",
   "execution_count": 76,
   "id": "5bc1dc9b",
   "metadata": {},
   "outputs": [
    {
     "name": "stdout",
     "output_type": "stream",
     "text": [
      "20\n"
     ]
    }
   ],
   "source": [
    "resultado = sumar(10,10)\n",
    "print(resultado)"
   ]
  },
  {
   "cell_type": "code",
   "execution_count": 77,
   "id": "0a8abbb2",
   "metadata": {},
   "outputs": [
    {
     "name": "stdout",
     "output_type": "stream",
     "text": [
      "La suma es un numero par\n"
     ]
    }
   ],
   "source": [
    "if sumar(5,15) % 2 ==0:\n",
    "    print(\"La suma es un numero par\")\n",
    "else:\n",
    "    print(\"La suma es un numero impar\")"
   ]
  },
  {
   "cell_type": "code",
   "execution_count": 79,
   "id": "77da01f9",
   "metadata": {},
   "outputs": [
    {
     "name": "stdout",
     "output_type": "stream",
     "text": [
      "Si se\n"
     ]
    }
   ],
   "source": [
    "# cuando la varibale no esta definida\n",
    "print(\"Si se\")"
   ]
  },
  {
   "cell_type": "markdown",
   "id": "51040065",
   "metadata": {},
   "source": [
    "# 7. Otros\n",
    "\n",
    "- Manejo de Excepciones\n",
    "- Instrucciones: pass, continuo, break\n",
    "- "
   ]
  },
  {
   "cell_type": "code",
   "execution_count": 81,
   "id": "9fc493a8",
   "metadata": {},
   "outputs": [
    {
     "ename": "NameError",
     "evalue": "name 'printn' is not defined",
     "output_type": "error",
     "traceback": [
      "\u001b[31m---------------------------------------------------------------------------\u001b[39m",
      "\u001b[31mNameError\u001b[39m                                 Traceback (most recent call last)",
      "\u001b[36mCell\u001b[39m\u001b[36m \u001b[39m\u001b[32mIn[81]\u001b[39m\u001b[32m, line 2\u001b[39m\n\u001b[32m      1\u001b[39m \u001b[38;5;66;03m# Name error\u001b[39;00m\n\u001b[32m----> \u001b[39m\u001b[32m2\u001b[39m \u001b[43mprintn\u001b[49m(\u001b[33m'\u001b[39m\u001b[33mtest\u001b[39m\u001b[33m'\u001b[39m)\n",
      "\u001b[31mNameError\u001b[39m: name 'printn' is not defined"
     ]
    }
   ],
   "source": [
    "# Name error\n",
    "printn('test')"
   ]
  },
  {
   "cell_type": "code",
   "execution_count": 83,
   "id": "e9a21155",
   "metadata": {},
   "outputs": [
    {
     "name": "stdout",
     "output_type": "stream",
     "text": [
      "Esto es im error de NameError\n"
     ]
    }
   ],
   "source": [
    "try:\n",
    "    printn('test')\n",
    "except:\n",
    "    print(f'Esto es im error de NameError')"
   ]
  },
  {
   "cell_type": "code",
   "execution_count": null,
   "id": "b5a546f7",
   "metadata": {},
   "outputs": [
    {
     "ename": "KeyError",
     "evalue": "'apellido'",
     "output_type": "error",
     "traceback": [
      "\u001b[31m---------------------------------------------------------------------------\u001b[39m",
      "\u001b[31mKeyError\u001b[39m                                  Traceback (most recent call last)",
      "\u001b[36mCell\u001b[39m\u001b[36m \u001b[39m\u001b[32mIn[86]\u001b[39m\u001b[32m, line 3\u001b[39m\n\u001b[32m      1\u001b[39m \u001b[38;5;66;03m# Errores comunes: keyError\u001b[39;00m\n\u001b[32m      2\u001b[39m dict_alumno = {\u001b[33m'\u001b[39m\u001b[33mnombre\u001b[39m\u001b[33m'\u001b[39m: \u001b[33m'\u001b[39m\u001b[33mAngel\u001b[39m\u001b[33m'\u001b[39m}\n\u001b[32m----> \u001b[39m\u001b[32m3\u001b[39m \u001b[43mdict_alumno\u001b[49m\u001b[43m \u001b[49m\u001b[43m[\u001b[49m\u001b[33;43m'\u001b[39;49m\u001b[33;43mapellido\u001b[39;49m\u001b[33;43m'\u001b[39;49m\u001b[43m]\u001b[49m\n",
      "\u001b[31mKeyError\u001b[39m: 'apellido'"
     ]
    }
   ],
   "source": [
    "# Errores comunes: keyError\n",
    "dict_alumno = {'nombre': 'Angel'} #entre llaves es un diccionario\n",
    "dict_alumno ['apellido']"
   ]
  },
  {
   "cell_type": "code",
   "execution_count": 87,
   "id": "1fd88d82",
   "metadata": {},
   "outputs": [
    {
     "name": "stdout",
     "output_type": "stream",
     "text": [
      "Esto es un error de KeyError\n"
     ]
    }
   ],
   "source": [
    "try:\n",
    "    dict_alumno ['apellido']\n",
    "except:\n",
    "    print('Esto es un error de KeyError')"
   ]
  },
  {
   "cell_type": "code",
   "execution_count": 89,
   "id": "bc0b1893",
   "metadata": {},
   "outputs": [
    {
     "ename": "IndexError",
     "evalue": "list index out of range",
     "output_type": "error",
     "traceback": [
      "\u001b[31m---------------------------------------------------------------------------\u001b[39m",
      "\u001b[31mIndexError\u001b[39m                                Traceback (most recent call last)",
      "\u001b[36mCell\u001b[39m\u001b[36m \u001b[39m\u001b[32mIn[89]\u001b[39m\u001b[32m, line 3\u001b[39m\n\u001b[32m      1\u001b[39m \u001b[38;5;66;03m# Errores al indexar: indexErrpr\u001b[39;00m\n\u001b[32m      2\u001b[39m lista = [\u001b[32m1\u001b[39m,\u001b[32m2\u001b[39m,\u001b[32m3\u001b[39m,\u001b[32m4\u001b[39m,\u001b[32m5\u001b[39m] \u001b[38;5;66;03m#las listas van entre corchetes\u001b[39;00m\n\u001b[32m----> \u001b[39m\u001b[32m3\u001b[39m \u001b[43mlista\u001b[49m\u001b[43m[\u001b[49m\u001b[32;43m7\u001b[39;49m\u001b[43m]\u001b[49m\n",
      "\u001b[31mIndexError\u001b[39m: list index out of range"
     ]
    }
   ],
   "source": [
    "# Errores al indexar: indexErrpr\n",
    "lista = [1,2,3,4,5] #las listas van entre corchetes\n",
    "lista[7]"
   ]
  },
  {
   "cell_type": "code",
   "execution_count": 90,
   "id": "8611b8c8",
   "metadata": {},
   "outputs": [
    {
     "name": "stdout",
     "output_type": "stream",
     "text": [
      "Esto es un error de IndexError\n"
     ]
    }
   ],
   "source": [
    "try:\n",
    "    lista[7]\n",
    "except:\n",
    "    print('Esto es un error de IndexError')"
   ]
  },
  {
   "cell_type": "code",
   "execution_count": 97,
   "id": "dbb5ecea",
   "metadata": {},
   "outputs": [],
   "source": [
    "#Funcion para detecctar errores\n",
    "def get_cociente(x,y):\n",
    "    try:\n",
    "        resultado = x // y\n",
    "        print(resultado)\n",
    "    except ZeroDivisionError:\n",
    "        print( 'Error: No se puede dividir por cero')\n",
    "    except TypeError as e:\n",
    "        print( 'Error: Los valores deben ser numéricos, Detalle: ', e)\n",
    "    else:\n",
    "        print('Operacion realizada correctamente', resultado)\n",
    "    finally:\n",
    "        print('Ejecución de la función finalizada, esto siempre se ejecuta')"
   ]
  },
  {
   "cell_type": "code",
   "execution_count": 92,
   "id": "baaad7d5",
   "metadata": {},
   "outputs": [
    {
     "name": "stdout",
     "output_type": "stream",
     "text": [
      "5\n",
      "Operacion realizada correctamente 5\n",
      "Ejecución de la función finalizada, esto siempre se ejecuta\n"
     ]
    }
   ],
   "source": [
    "get_cociente(10,2)"
   ]
  },
  {
   "cell_type": "code",
   "execution_count": 93,
   "id": "698be972",
   "metadata": {},
   "outputs": [
    {
     "name": "stdout",
     "output_type": "stream",
     "text": [
      "Error: No se puede dividir por cero\n",
      "Ejecución de la función finalizada, esto siempre se ejecuta\n"
     ]
    }
   ],
   "source": [
    "get_cociente(10,0)"
   ]
  },
  {
   "cell_type": "code",
   "execution_count": 98,
   "id": "663f7135",
   "metadata": {},
   "outputs": [
    {
     "name": "stdout",
     "output_type": "stream",
     "text": [
      "Error: Los valores deben ser numéricos, Detalle:  unsupported operand type(s) for //: 'int' and 'str'\n",
      "Ejecución de la función finalizada, esto siempre se ejecuta\n"
     ]
    }
   ],
   "source": [
    "get_cociente(3,'a')"
   ]
  }
 ],
 "metadata": {
  "kernelspec": {
   "display_name": "myenv",
   "language": "python",
   "name": "python3"
  },
  "language_info": {
   "codemirror_mode": {
    "name": "ipython",
    "version": 3
   },
   "file_extension": ".py",
   "mimetype": "text/x-python",
   "name": "python",
   "nbconvert_exporter": "python",
   "pygments_lexer": "ipython3",
   "version": "3.11.0"
  }
 },
 "nbformat": 4,
 "nbformat_minor": 5
}
