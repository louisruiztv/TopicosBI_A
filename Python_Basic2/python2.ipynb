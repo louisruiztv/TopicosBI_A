{
 "cells": [
  {
   "cell_type": "markdown",
   "id": "4049721c",
   "metadata": {},
   "source": [
    "# Pyhton using pandas and numpy for Big Data\n",
    "\n",
    "Intala las librerias Pandas, Numpy, pra trabajar con datos masivos"
   ]
  },
  {
   "cell_type": "markdown",
   "id": "deee2eb4",
   "metadata": {},
   "source": [
    "\n",
    "\n",
    "## Lenguaje de programación\n",
    "- Pyhon\n",
    "\n",
    "# Autor\n",
    "Derechos reservados ® Luis Manuel Ruiz Rudas"
   ]
  }
 ],
 "metadata": {
  "language_info": {
   "name": "python"
  }
 },
 "nbformat": 4,
 "nbformat_minor": 5
}
